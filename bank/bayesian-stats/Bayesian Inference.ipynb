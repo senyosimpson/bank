{
 "cells": [
  {
   "cell_type": "markdown",
   "metadata": {},
   "source": [
    "# Bayesian Inference"
   ]
  },
  {
   "cell_type": "markdown",
   "metadata": {},
   "source": [
    "Bayesian statistics uses probability distributions to quantify degrees of belief. Bayesian inference provides the mathematical formalism and machinery to incorporate prior beliefs into our models and update them based on new evidence. The prior distribution encodes the degree of belief of a parameter or set of parameters before they are seen. On observation of new data, the priors are updated to form the posterior.\n",
    "\n",
    "This is akin to how humans think and process information. Imagine you are estimating the amount of time it takes for you to travel from home to work. The first time, you make a guess based on some assumptions you have, for instance the distance and amount of traffic. After driving to work the first time, you have evidence of how long it actually takes. After doing this day in and day out, you become more *certain*. This is basically Bayesian inference. Initially, we make an estimate (our prior belief) which encodes how certain we are about some phenomena (i.e the time it takes to drive to work). After seeing increasingly more data, we become more certain and update our belief (the posterior belief).\n",
    "\n",
    "Bayes formula is central to Bayesian inference (hence the not so obvious name!). Bayes formula is given by\n",
    "\n",
    "$p(\\theta | D) = \\frac{p(D|\\theta) p(\\theta)}{p(D)}$\n",
    "\n",
    "which in English terms is\n",
    "\n",
    "$\\text{posterior = } \\frac{\\text{prior } \\times \\text{ likelihood}}{\\text{evidence}}$\n",
    "\n",
    "The evidence serves to normalize the density to give you a distribution. Often we can ignore it and write the above as\n",
    "\n",
    "$p(\\theta | D) \\propto p(D|\\theta) p(\\theta)$\n",
    "\n",
    "$\\text{posterior} \\propto \\text{prior } \\times \\text{ likelihood}$\n",
    "\n",
    "We walk through a concrete example of Bayesian inference to solidify the concept\n",
    "\n"
   ]
  },
  {
   "cell_type": "markdown",
   "metadata": {},
   "source": [
    "## Example\n",
    "\n",
    "This example is motivated by this [blog post](https://medium.com/paper-club/analytical-bayesian-inference-with-conjugate-priors-4a1d75ca799b)"
   ]
  },
  {
   "cell_type": "markdown",
   "metadata": {},
   "source": [
    "You are an up and coming musician. You are releasing a new album tomorrow and you want to estimate how many streams you'll get on the first day of release.\n",
    "\n",
    "The relevant distribution in this case is a Poisson distribution. A Poisson distribution is a discrete distribution that shows how many times an event is likely to occur in a specified period of time. An assumption is that the event occur at a constant rate within a given interval of time and that they are independent. The probability mass function is given by the formula\n",
    "\n",
    "$P(X = k) = \\frac{\\lambda^k e^{-\\lambda}}{k!}$\n",
    "\n",
    "The only parameter for this distribution is $ \\lambda $. We choose a prior over this parameter. To make it analytical, we use the conjugate prior of the Poisson distribution, the gamma distribution. The probability density function is given by\n",
    "\n",
    "$\\frac{\\beta^\\alpha x^{\\alpha-1}e^{-\\beta x}}{\\Gamma(\\alpha)}$\n",
    "\n",
    "where $\\Gamma(\\alpha)$ is the gamma function given by\n",
    "\n",
    "$\\Gamma(\\alpha) = \\int^\\infty_0 x^{\\alpha-1}e^{-x} dx$"
   ]
  },
  {
   "cell_type": "code",
   "execution_count": null,
   "metadata": {},
   "outputs": [],
   "source": []
  }
 ],
 "metadata": {
  "kernelspec": {
   "display_name": "base",
   "language": "python",
   "name": "base"
  },
  "language_info": {
   "codemirror_mode": {
    "name": "ipython",
    "version": 3
   },
   "file_extension": ".py",
   "mimetype": "text/x-python",
   "name": "python",
   "nbconvert_exporter": "python",
   "pygments_lexer": "ipython3",
   "version": "3.6.9"
  }
 },
 "nbformat": 4,
 "nbformat_minor": 4
}
